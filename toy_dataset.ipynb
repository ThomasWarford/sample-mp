{
 "cells": [
  {
   "cell_type": "markdown",
   "id": "fcd880f7-cd8b-4b29-b70e-66324be918fc",
   "metadata": {},
   "source": [
    "# Creating Toy Datasets from Materials Project Systematically"
   ]
  },
  {
   "cell_type": "markdown",
   "id": "5c7f92b0-1aa3-45db-b34b-e036b09abf8d",
   "metadata": {},
   "source": [
    "## Download Element Data (to save time)"
   ]
  },
  {
   "cell_type": "code",
   "execution_count": 1,
   "id": "a86ec68d-9317-4abb-a5d6-d51bcbff9fa9",
   "metadata": {},
   "outputs": [],
   "source": [
    "from mp_api.client import MPRester\n",
    "from pathlib import Path\n",
    "import json\n",
    "path_data = Path(\"./data\")\n",
    "path_data.mkdir(exist_ok=True)\n",
    "path_elements = path_data/\"mp_elements_dict.json\"\n",
    "API_KEY = \"YOUR_KEY_HERE\""
   ]
  },
  {
   "cell_type": "code",
   "execution_count": 2,
   "id": "c0041f96-6901-41b9-9609-e11a8709b4b0",
   "metadata": {},
   "outputs": [],
   "source": [
    "if not path_elements.exists():  \n",
    "    with MPRester(API_KEY) as mpr:\n",
    "        docs = mpr.materials.summary.search(fields=[\"material_id\", \"elements\"])\n",
    "\n",
    "    mp_elements = {}\n",
    "    for doc in docs:\n",
    "        mp_elements[doc.material_id.string] = [element.number for element in doc.elements]\n",
    "    \n",
    "    with open(path_elements, 'w') as f: \n",
    "        json.dump(mp_elements, f)\n",
    "else:\n",
    "    with open(path_elements, 'r') as f: \n",
    "        mp_elements = json.load(f)"
   ]
  },
  {
   "cell_type": "markdown",
   "id": "389d53e5-2874-4281-84b5-0f113b9a2dcf",
   "metadata": {},
   "source": [
    "## Element Distribution Analysis"
   ]
  },
  {
   "cell_type": "code",
   "execution_count": 3,
   "id": "b5f15a40-f373-4dba-b42b-be2473cd2818",
   "metadata": {},
   "outputs": [
    {
     "data": {
      "text/plain": [
       "{1: 10449,\n",
       " 2: 8,\n",
       " 3: 21761,\n",
       " 4: 1189,\n",
       " 5: 6370,\n",
       " 6: 9083,\n",
       " 7: 11442,\n",
       " 8: 82406,\n",
       " 9: 12136,\n",
       " 10: 1,\n",
       " 11: 12873,\n",
       " 12: 19084,\n",
       " 13: 7805,\n",
       " 14: 12758,\n",
       " 15: 16913,\n",
       " 16: 15397,\n",
       " 17: 6425,\n",
       " 18: 2}"
      ]
     },
     "execution_count": 3,
     "metadata": {},
     "output_type": "execute_result"
    }
   ],
   "source": [
    "cutoff_element = 18 # Argon (two rows of periodic table)\n",
    "\n",
    "materials_by_element = {}\n",
    "\n",
    "for element in range(1, cutoff_element+1):\n",
    "    \n",
    "    materials_by_element[element] = []\n",
    "    \n",
    "    for (mp_id, elements) in mp_elements.items():\n",
    "        if element in elements:\n",
    "            materials_by_element[element].append(mp_id)\n",
    "    \n",
    "counts = {element: len(mp_ids) for element, mp_ids in materials_by_element.items()}\n",
    "counts"
   ]
  },
  {
   "cell_type": "markdown",
   "id": "a625253f-3aa1-4576-90b3-005873539182",
   "metadata": {},
   "source": [
    "According to MP website 10,394 materials contain H; 8 He; 21,686 Li"
   ]
  },
  {
   "cell_type": "code",
   "execution_count": 5,
   "id": "89169979-dc34-4c99-bae2-d236b594f71d",
   "metadata": {},
   "outputs": [
    {
     "data": {
      "application/vnd.jupyter.widget-view+json": {
       "model_id": "8f532f7b927846fda766b415e21e5d5e",
       "version_major": 2,
       "version_minor": 0
      },
      "text/plain": [
       "Retrieving SummaryDoc documents:   0%|          | 0/10394 [00:00<?, ?it/s]"
      ]
     },
     "metadata": {},
     "output_type": "display_data"
    }
   ],
   "source": [
    "with MPRester(API_KEY) as mpr:\n",
    "    docs = mpr.materials.summary.search(\n",
    "        elements=[\"H\"], fields=[\"material_id\", \"formula_pretty\"]\n",
    "    )\n",
    "    mpid_formula_dict = {\n",
    "        doc.material_id: doc.formula_pretty for doc in docs\n",
    "    }"
   ]
  },
  {
   "cell_type": "code",
   "execution_count": 6,
   "id": "cd35af1e-e2f0-4d63-97d8-1e8593e18185",
   "metadata": {},
   "outputs": [],
   "source": [
    "element = 9\n",
    "for id in materials_by_element[element]:\n",
    "    if not (element in mp_elements[id]):\n",
    "        print(mp_elements[id].elements)"
   ]
  },
  {
   "cell_type": "code",
   "execution_count": 9,
   "id": "8dec4176-ab60-4a74-9655-38c1e97d916c",
   "metadata": {},
   "outputs": [],
   "source": [
    "h_ids = [id.string for id in mpid_formula_dict.keys()]"
   ]
  },
  {
   "cell_type": "code",
   "execution_count": 17,
   "id": "c1c69149-e6f3-40f9-b7e0-80ba1bbd9e3c",
   "metadata": {},
   "outputs": [
    {
     "data": {
      "text/plain": [
       "['mp-697915',\n",
       " 'mp-1187975',\n",
       " 'mp-632667',\n",
       " 'mp-634930',\n",
       " 'mp-634751',\n",
       " 'mp-864603',\n",
       " 'mp-625103',\n",
       " 'mp-626421',\n",
       " 'mp-632348',\n",
       " 'mp-1070852',\n",
       " 'mp-2646948',\n",
       " 'mp-1025273',\n",
       " 'mp-1103732',\n",
       " 'mp-626413',\n",
       " 'mp-643108',\n",
       " 'mp-1207586',\n",
       " 'mp-740759',\n",
       " 'mp-1206323',\n",
       " 'mp-1018646',\n",
       " 'mp-1018647',\n",
       " 'mp-1187892',\n",
       " 'mp-1207571',\n",
       " 'mp-1207559',\n",
       " 'mp-979964',\n",
       " 'mp-1195507',\n",
       " 'mp-1198634',\n",
       " 'mp-1105386',\n",
       " 'mp-1216487',\n",
       " 'mp-643246',\n",
       " 'mp-1195012',\n",
       " 'mp-1195544',\n",
       " 'mp-643071',\n",
       " 'mp-1203501',\n",
       " 'mp-1202946',\n",
       " 'mp-1200022',\n",
       " 'mp-705525',\n",
       " 'mp-555985',\n",
       " 'mp-1202633',\n",
       " 'mp-1202882',\n",
       " 'mp-1198247',\n",
       " 'mp-1238179',\n",
       " 'mp-1200794',\n",
       " 'mp-1191250',\n",
       " 'mp-697925',\n",
       " 'mp-699393',\n",
       " 'mp-1212344',\n",
       " 'mp-722346',\n",
       " 'mp-1203140',\n",
       " 'mp-1200555',\n",
       " 'mp-1202119',\n",
       " 'mp-1193866',\n",
       " 'mp-1190437',\n",
       " 'mp-1198865',\n",
       " 'mp-1200481',\n",
       " 'mp-1200272']"
      ]
     },
     "execution_count": 17,
     "metadata": {},
     "output_type": "execute_result"
    }
   ],
   "source": [
    "[id for id in materials_by_element[1] if not (id in h_ids)]"
   ]
  },
  {
   "cell_type": "code",
   "execution_count": 18,
   "id": "1b9b3903-63e3-4223-835a-5a3e9c38e00b",
   "metadata": {},
   "outputs": [
    {
     "data": {
      "text/plain": [
       "'mp-697915'"
      ]
     },
     "execution_count": 18,
     "metadata": {},
     "output_type": "execute_result"
    }
   ],
   "source": [
    "\"mp-697915\""
   ]
  },
  {
   "cell_type": "code",
   "execution_count": 15,
   "id": "eb85e21d-b283-4259-81ad-e0b759093fde",
   "metadata": {},
   "outputs": [
    {
     "data": {
      "text/plain": [
       "10394"
      ]
     },
     "execution_count": 15,
     "metadata": {},
     "output_type": "execute_result"
    }
   ],
   "source": [
    "if not path_elements.exists():  \n",
    "    with MPRester(API_KEY) as mpr:\n",
    "        docs = mpr.materials.summary.search(mat)"
   ]
  },
  {
   "cell_type": "code",
   "execution_count": null,
   "id": "31c1db56-d3d4-4e47-8271-5e73d92fd7ea",
   "metadata": {},
   "outputs": [],
   "source": []
  }
 ],
 "metadata": {
  "kernelspec": {
   "display_name": "Python 3 (ipykernel)",
   "language": "python",
   "name": "python3"
  },
  "language_info": {
   "codemirror_mode": {
    "name": "ipython",
    "version": 3
   },
   "file_extension": ".py",
   "mimetype": "text/x-python",
   "name": "python",
   "nbconvert_exporter": "python",
   "pygments_lexer": "ipython3",
   "version": "3.12.0"
  }
 },
 "nbformat": 4,
 "nbformat_minor": 5
}
