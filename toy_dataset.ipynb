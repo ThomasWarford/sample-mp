{
 "cells": [
  {
   "cell_type": "markdown",
   "id": "fcd880f7-cd8b-4b29-b70e-66324be918fc",
   "metadata": {},
   "source": [
    "# Creating Toy Datasets from Materials Project Systematically"
   ]
  },
  {
   "cell_type": "markdown",
   "id": "5c7f92b0-1aa3-45db-b34b-e036b09abf8d",
   "metadata": {},
   "source": [
    "## Download Element Data (to save time)"
   ]
  },
  {
   "cell_type": "code",
   "execution_count": 1,
   "id": "a86ec68d-9317-4abb-a5d6-d51bcbff9fa9",
   "metadata": {},
   "outputs": [],
   "source": [
    "from mp_api.client import MPRester\n",
    "from pathlib import Path\n",
    "import json\n",
    "import matplotlib.pyplot as plt\n",
    "path_data = Path(\"./data\")\n",
    "path_data.mkdir(exist_ok=True)\n",
    "path_elements = path_data/\"mp_elements_dict.json\"\n",
    "API_KEY = \"YOUR_KEY_HERE\""
   ]
  },
  {
   "cell_type": "code",
   "execution_count": 2,
   "id": "a3864dea-4095-4dd6-a6c9-37372cd913cc",
   "metadata": {},
   "outputs": [],
   "source": [
    "# with MPRester(API_KEY) as mpr:\n",
    "#         docs = mpr.materials.summary.search(fields=[\"material_id\", \"elements\"],)"
   ]
  },
  {
   "cell_type": "code",
   "execution_count": 3,
   "id": "c0041f96-6901-41b9-9609-e11a8709b4b0",
   "metadata": {},
   "outputs": [
    {
     "data": {
      "application/vnd.jupyter.widget-view+json": {
       "model_id": "3fbd7fd20e64458284064e3a8830e164",
       "version_major": 2,
       "version_minor": 0
      },
      "text/plain": [
       "Retrieving SummaryDoc documents:   0%|          | 0/153235 [00:00<?, ?it/s]"
      ]
     },
     "metadata": {},
     "output_type": "display_data"
    }
   ],
   "source": [
    "if not path_elements.exists():  \n",
    "    with MPRester(API_KEY) as mpr:\n",
    "        docs = mpr.materials.summary.search(fields=[\"material_id\", \"elements\", \"deprecated\"])\n",
    "    \n",
    "    mp_elements = {}\n",
    "    for doc in docs:\n",
    "        mp_elements[doc.material_id.string] = [element.number for element in doc.elements if not doc.deprecated]\n",
    "        if doc.deprecated != False:\n",
    "            print(doc.deprecated)\n",
    "    \n",
    "    with open(path_elements, 'w') as f: \n",
    "        json.dump(mp_elements, f)\n",
    "else:\n",
    "    with open(path_elements, 'r') as f: \n",
    "        mp_elements = json.load(f)"
   ]
  },
  {
   "cell_type": "code",
   "execution_count": 4,
   "id": "d6a7ff48-0fb7-4a1a-a1e2-d989364caab4",
   "metadata": {},
   "outputs": [
    {
     "data": {
      "text/plain": [
       "False"
      ]
     },
     "execution_count": 4,
     "metadata": {},
     "output_type": "execute_result"
    }
   ],
   "source": [
    "doc.deprecated"
   ]
  },
  {
   "cell_type": "markdown",
   "id": "389d53e5-2874-4281-84b5-0f113b9a2dcf",
   "metadata": {},
   "source": [
    "## Element Distribution Analysis"
   ]
  },
  {
   "cell_type": "code",
   "execution_count": 17,
   "id": "b5f15a40-f373-4dba-b42b-be2473cd2818",
   "metadata": {},
   "outputs": [
    {
     "data": {
      "text/plain": [
       "{1: 10449,\n",
       " 2: 8,\n",
       " 3: 21761,\n",
       " 4: 1189,\n",
       " 5: 6370,\n",
       " 6: 9083,\n",
       " 7: 11442,\n",
       " 8: 82406,\n",
       " 9: 12136,\n",
       " 10: 1,\n",
       " 11: 12873,\n",
       " 12: 19084,\n",
       " 13: 7805,\n",
       " 14: 12758,\n",
       " 15: 16913,\n",
       " 16: 15397,\n",
       " 17: 6425,\n",
       " 18: 2}"
      ]
     },
     "execution_count": 17,
     "metadata": {},
     "output_type": "execute_result"
    }
   ],
   "source": [
    "cutoff_element = 18 # Argon (two rows of periodic table)\n",
    "\n",
    "materials_by_element = {}\n",
    "\n",
    "for element in range(1, cutoff_element+1):\n",
    "    \n",
    "    materials_by_element[element] = []\n",
    "    \n",
    "    for (mp_id, elements) in mp_elements.items():\n",
    "        if element in elements:\n",
    "            materials_by_element[element].append(mp_id)\n",
    "    \n",
    "counts = {element: len(mp_ids) for element, mp_ids in materials_by_element.items()}\n",
    "counts"
   ]
  },
  {
   "cell_type": "code",
   "execution_count": null,
   "id": "48cc9357-05bb-4dd9-bec7-024f724f8bef",
   "metadata": {},
   "outputs": [],
   "source": []
  },
  {
   "cell_type": "markdown",
   "id": "4fc8f4e8-24eb-46b2-b648-f0de8ab50c65",
   "metadata": {
    "jp-MarkdownHeadingCollapsed": true
   },
   "source": [
    "### Investigation"
   ]
  },
  {
   "cell_type": "markdown",
   "id": "a625253f-3aa1-4576-90b3-005873539182",
   "metadata": {},
   "source": [
    "According to MP website 10,394 materials contain H; 8 He; 21,686 Li"
   ]
  },
  {
   "cell_type": "code",
   "execution_count": 6,
   "id": "89169979-dc34-4c99-bae2-d236b594f71d",
   "metadata": {},
   "outputs": [
    {
     "data": {
      "application/vnd.jupyter.widget-view+json": {
       "model_id": "6ae8698ef8ad41ef94b61ca6ce7036bb",
       "version_major": 2,
       "version_minor": 0
      },
      "text/plain": [
       "Retrieving SummaryDoc documents:   0%|          | 0/10394 [00:00<?, ?it/s]"
      ]
     },
     "metadata": {},
     "output_type": "display_data"
    }
   ],
   "source": [
    "with MPRester(API_KEY) as mpr:\n",
    "    docs = mpr.materials.summary.search(\n",
    "        elements=[\"H\"], fields=[\"material_id\", \"formula_pretty\"]\n",
    "    )\n",
    "    mpid_formula_dict = {\n",
    "        doc.material_id: doc.formula_pretty for doc in docs\n",
    "    }"
   ]
  },
  {
   "cell_type": "code",
   "execution_count": 7,
   "id": "e2fefc23-ec91-40ed-b2fa-01f55c7be86f",
   "metadata": {},
   "outputs": [
    {
     "data": {
      "text/plain": [
       "10394"
      ]
     },
     "execution_count": 7,
     "metadata": {},
     "output_type": "execute_result"
    }
   ],
   "source": [
    "len(docs)"
   ]
  },
  {
   "cell_type": "code",
   "execution_count": 8,
   "id": "cd35af1e-e2f0-4d63-97d8-1e8593e18185",
   "metadata": {},
   "outputs": [],
   "source": [
    "element = 9\n",
    "for id in materials_by_element[element]:\n",
    "    if not (element in mp_elements[id]):\n",
    "        print(mp_elements[id].elements)"
   ]
  },
  {
   "cell_type": "code",
   "execution_count": 9,
   "id": "8dec4176-ab60-4a74-9655-38c1e97d916c",
   "metadata": {},
   "outputs": [],
   "source": [
    "h_ids = [id.string for id in mpid_formula_dict.keys()]"
   ]
  },
  {
   "cell_type": "code",
   "execution_count": 10,
   "id": "c1c69149-e6f3-40f9-b7e0-80ba1bbd9e3c",
   "metadata": {},
   "outputs": [
    {
     "data": {
      "text/plain": [
       "['mp-697915',\n",
       " 'mp-1187975',\n",
       " 'mp-632667',\n",
       " 'mp-634930',\n",
       " 'mp-634751',\n",
       " 'mp-864603',\n",
       " 'mp-625103',\n",
       " 'mp-626421',\n",
       " 'mp-632348',\n",
       " 'mp-1070852',\n",
       " 'mp-2646948',\n",
       " 'mp-1025273',\n",
       " 'mp-1103732',\n",
       " 'mp-626413',\n",
       " 'mp-643108',\n",
       " 'mp-1207586',\n",
       " 'mp-740759',\n",
       " 'mp-1206323',\n",
       " 'mp-1018646',\n",
       " 'mp-1018647',\n",
       " 'mp-1187892',\n",
       " 'mp-1207571',\n",
       " 'mp-1207559',\n",
       " 'mp-979964',\n",
       " 'mp-1195507',\n",
       " 'mp-1198634',\n",
       " 'mp-1105386',\n",
       " 'mp-1216487',\n",
       " 'mp-643246',\n",
       " 'mp-1203501',\n",
       " 'mp-1195544',\n",
       " 'mp-1195012',\n",
       " 'mp-643071',\n",
       " 'mp-1200022',\n",
       " 'mp-705525',\n",
       " 'mp-555985',\n",
       " 'mp-1202633',\n",
       " 'mp-1202946',\n",
       " 'mp-1202882',\n",
       " 'mp-1198247',\n",
       " 'mp-1191250',\n",
       " 'mp-1238179',\n",
       " 'mp-1200794',\n",
       " 'mp-697925',\n",
       " 'mp-699393',\n",
       " 'mp-1212344',\n",
       " 'mp-722346',\n",
       " 'mp-1203140',\n",
       " 'mp-1200555',\n",
       " 'mp-1202119',\n",
       " 'mp-1193866',\n",
       " 'mp-1190437',\n",
       " 'mp-1198865',\n",
       " 'mp-1200481',\n",
       " 'mp-1200272']"
      ]
     },
     "execution_count": 10,
     "metadata": {},
     "output_type": "execute_result"
    }
   ],
   "source": [
    "[id for id in materials_by_element[1] if not (id in h_ids)]"
   ]
  },
  {
   "cell_type": "code",
   "execution_count": 11,
   "id": "1b9b3903-63e3-4223-835a-5a3e9c38e00b",
   "metadata": {},
   "outputs": [
    {
     "data": {
      "text/plain": [
       "'mp-697915'"
      ]
     },
     "execution_count": 11,
     "metadata": {},
     "output_type": "execute_result"
    }
   ],
   "source": [
    "\"mp-697915\""
   ]
  },
  {
   "cell_type": "code",
   "execution_count": 12,
   "id": "31c1db56-d3d4-4e47-8271-5e73d92fd7ea",
   "metadata": {},
   "outputs": [
    {
     "data": {
      "text/plain": [
       "55"
      ]
     },
     "execution_count": 12,
     "metadata": {},
     "output_type": "execute_result"
    }
   ],
   "source": [
    "len([id for id in materials_by_element[1] if not (id in h_ids)])"
   ]
  },
  {
   "cell_type": "code",
   "execution_count": 13,
   "id": "2957a251-bafa-4ead-89e3-955481c2c0b9",
   "metadata": {},
   "outputs": [
    {
     "data": {
      "application/vnd.jupyter.widget-view+json": {
       "model_id": "8c38dfd182684666a2d73c8f958ce501",
       "version_major": 2,
       "version_minor": 0
      },
      "text/plain": [
       "Retrieving SummaryDoc documents: 0it [00:00, ?it/s]"
      ]
     },
     "metadata": {},
     "output_type": "display_data"
    }
   ],
   "source": [
    "with MPRester(API_KEY) as mpr:\n",
    "    docs = mpr.materials.summary.search(\n",
    "        material_ids=[id for id in materials_by_element[1] if not (id in h_ids)]\n",
    "    )"
   ]
  },
  {
   "cell_type": "markdown",
   "id": "41bb1564-d852-4028-9ea9-c2509f0c83fd",
   "metadata": {},
   "source": [
    "## Continuing\n",
    "Let's get the \"target\" distribution"
   ]
  },
  {
   "cell_type": "code",
   "execution_count": 14,
   "id": "0882969e-e2af-4079-9a4a-9f4e23ffea76",
   "metadata": {},
   "outputs": [],
   "source": [
    "num_materials = 10000\n",
    "num_elements = cutoff_element\n",
    "max_samples = num_materials // num_elements"
   ]
  },
  {
   "cell_type": "code",
   "execution_count": 15,
   "id": "2f369a47-b96e-4499-81bd-48509b6fb774",
   "metadata": {},
   "outputs": [],
   "source": [
    "targets = {element: min(max_samples, counts[element]) for element in range(1, cutoff_element+1)}"
   ]
  },
  {
   "cell_type": "code",
   "execution_count": 16,
   "id": "71b196c0-03cf-44a0-a7ca-d6938257a1ff",
   "metadata": {},
   "outputs": [
    {
     "data": {
      "text/plain": [
       "([<matplotlib.axis.XTick at 0x7388ef622450>,\n",
       "  <matplotlib.axis.XTick at 0x7388ef623a70>,\n",
       "  <matplotlib.axis.XTick at 0x7388da2e3ce0>,\n",
       "  <matplotlib.axis.XTick at 0x7388da2e3dd0>,\n",
       "  <matplotlib.axis.XTick at 0x73890842ad80>,\n",
       "  <matplotlib.axis.XTick at 0x7388dbcaa1b0>,\n",
       "  <matplotlib.axis.XTick at 0x7388dbca8860>,\n",
       "  <matplotlib.axis.XTick at 0x7389084294f0>,\n",
       "  <matplotlib.axis.XTick at 0x7388dbca8260>,\n",
       "  <matplotlib.axis.XTick at 0x7388dbca92e0>,\n",
       "  <matplotlib.axis.XTick at 0x7388cf55acc0>,\n",
       "  <matplotlib.axis.XTick at 0x7388cf55a750>,\n",
       "  <matplotlib.axis.XTick at 0x7388dbcaa9f0>,\n",
       "  <matplotlib.axis.XTick at 0x7388cf55a300>,\n",
       "  <matplotlib.axis.XTick at 0x7388cf55abd0>,\n",
       "  <matplotlib.axis.XTick at 0x7388cf558c50>,\n",
       "  <matplotlib.axis.XTick at 0x7388cf55bad0>,\n",
       "  <matplotlib.axis.XTick at 0x7388ed3f5250>],\n",
       " [Text(0, 0, '1'),\n",
       "  Text(1, 0, '2'),\n",
       "  Text(2, 0, '3'),\n",
       "  Text(3, 0, '4'),\n",
       "  Text(4, 0, '5'),\n",
       "  Text(5, 0, '6'),\n",
       "  Text(6, 0, '7'),\n",
       "  Text(7, 0, '8'),\n",
       "  Text(8, 0, '9'),\n",
       "  Text(9, 0, '10'),\n",
       "  Text(10, 0, '11'),\n",
       "  Text(11, 0, '12'),\n",
       "  Text(12, 0, '13'),\n",
       "  Text(13, 0, '14'),\n",
       "  Text(14, 0, '15'),\n",
       "  Text(15, 0, '16'),\n",
       "  Text(16, 0, '17'),\n",
       "  Text(17, 0, '18')])"
      ]
     },
     "execution_count": 16,
     "metadata": {},
     "output_type": "execute_result"
    },
    {
     "data": {
      "image/png": "[encoded data removed]",
      "text/plain": [
       "<Figure size 640x480 with 1 Axes>"
      ]
     },
     "metadata": {},
     "output_type": "display_data"
    }
   ],
   "source": [
    "plt.bar(range(len(targets)), targets.values())\n",
    "plt.xticks(range(len(targets)), list(targets.keys()))"
   ]
  },
  {
   "cell_type": "code",
   "execution_count": null,
   "id": "dcb387da-d83c-4396-a964-bf5a71f2c8b6",
   "metadata": {},
   "outputs": [],
   "source": []
  }
 ],
 "metadata": {
  "kernelspec": {
   "display_name": "Python 3 (ipykernel)",
   "language": "python",
   "name": "python3"
  },
  "language_info": {
   "codemirror_mode": {
    "name": "ipython",
    "version": 3
   },
   "file_extension": ".py",
   "mimetype": "text/x-python",
   "name": "python",
   "nbconvert_exporter": "python",
   "pygments_lexer": "ipython3",
   "version": "3.12.0"
  }
 },
 "nbformat": 4,
 "nbformat_minor": 5
}
